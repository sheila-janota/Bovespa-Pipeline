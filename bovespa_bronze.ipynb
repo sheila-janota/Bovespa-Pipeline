{
 "cells": [
  {
   "cell_type": "code",
   "execution_count": 1,
   "id": "335df97d",
   "metadata": {},
   "outputs": [],
   "source": [
    "import os\n",
    "import numpy as np\n",
    "from urllib.request import urlretrieve\n",
    "import zipfile\n",
    "from datetime import date, datetime\n",
    "import pandas as pd\n"
   ]
  },
  {
   "cell_type": "code",
   "execution_count": 2,
   "id": "7aa815b4",
   "metadata": {},
   "outputs": [],
   "source": [
    "def get_history_from_file(file_cot_hist):\n",
    "\n",
    "    data = []\n",
    "    \n",
    "    with open(file_cot_hist, 'r') as file:\n",
    "            content = file.read()\n",
    "    \n",
    "    lines = content.split('\\n')[1:-2]   # drop header and footer\n",
    "    \n",
    "    print(file_cot_hist, len(lines))\n",
    "    for line in lines:\n",
    "        \n",
    "        date = line[2:10].strip()\n",
    "        ticker = line[12:24].strip()\n",
    "        close = line[108:121].strip()\n",
    "        # close = _to_float(line[108:121].strip())\n",
    "        # date = datetime.strptime(date, '%Y%m%d')\n",
    "\n",
    "        data.append({\n",
    "            'date': date,\n",
    "            'ticker': ticker,\n",
    "            'close': close,\n",
    "        })\n",
    "        \n",
    "    df = pd.DataFrame(data)\n",
    "\n",
    "    return df"
   ]
  },
  {
   "cell_type": "code",
   "execution_count": 3,
   "id": "c3561440",
   "metadata": {},
   "outputs": [
    {
     "name": "stdout",
     "output_type": "stream",
     "text": [
      "landing/tickers_bolsa/txt/COTAHIST_A2019.txt 779229\n",
      "landing/tickers_bolsa/txt/COTAHIST_A2020.txt 1251646\n",
      "landing/tickers_bolsa/txt/COTAHIST_A2021.txt 1831862\n",
      "landing/tickers_bolsa/txt/COTAHIST_A2022.txt 2117440\n",
      "landing/tickers_bolsa/txt/COTAHIST_A2023.txt 2257424\n",
      "landing/tickers_bolsa/txt/COTAHIST_A2024.txt 2635561\n"
     ]
    }
   ],
   "source": [
    "file_list = [\n",
    "    \"COTAHIST_A2019\",\n",
    "    \"COTAHIST_A2020\",\n",
    "    \"COTAHIST_A2021\",\n",
    "    \"COTAHIST_A2022\",\n",
    "    \"COTAHIST_A2023\",\n",
    "    \"COTAHIST_A2024\",\n",
    "]\n",
    "\n",
    "\n",
    "\n",
    "df_bolsa = pd.DataFrame()\n",
    "for file in file_list:\n",
    "    df = get_history_from_file(f\"landing/tickers_bolsa/txt/{file}.txt\")\n",
    "\n",
    "    df.to_parquet(f\"bronze/tickers_bolsa/{file}.parquet\", index = False)"
   ]
  }
 ],
 "metadata": {
  "kernelspec": {
   "display_name": "python3_7",
   "language": "python",
   "name": "python3"
  },
  "language_info": {
   "codemirror_mode": {
    "name": "ipython",
    "version": 3
   },
   "file_extension": ".py",
   "mimetype": "text/x-python",
   "name": "python",
   "nbconvert_exporter": "python",
   "pygments_lexer": "ipython3",
   "version": "3.7.10"
  }
 },
 "nbformat": 4,
 "nbformat_minor": 5
}
