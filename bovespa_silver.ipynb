{
 "cells": [
  {
   "cell_type": "code",
   "execution_count": 1,
   "id": "85f124c3",
   "metadata": {},
   "outputs": [],
   "source": [
    "import pandas as pd\n",
    "import os"
   ]
  },
  {
   "cell_type": "code",
   "execution_count": 2,
   "id": "97accab5",
   "metadata": {},
   "outputs": [],
   "source": [
    "def _to_float(s):\n",
    "    return float(s[:-2] + '.' + s[-2:])"
   ]
  },
  {
   "cell_type": "code",
   "execution_count": 3,
   "id": "cb74f129",
   "metadata": {},
   "outputs": [
    {
     "name": "stdout",
     "output_type": "stream",
     "text": [
      "COTAHIST_A2019 processado e salvo em silver.\n",
      "COTAHIST_A2020 processado e salvo em silver.\n",
      "COTAHIST_A2021 processado e salvo em silver.\n",
      "COTAHIST_A2022 processado e salvo em silver.\n",
      "COTAHIST_A2023 processado e salvo em silver.\n",
      "COTAHIST_A2024 processado e salvo em silver.\n"
     ]
    },
    {
     "data": {
      "application/vnd.microsoft.datawrangler.viewer.v0+json": {
       "columns": [
        {
         "name": "index",
         "rawType": "int64",
         "type": "integer"
        },
        {
         "name": "date",
         "rawType": "datetime64[ns]",
         "type": "datetime"
        },
        {
         "name": "ticker",
         "rawType": "object",
         "type": "string"
        },
        {
         "name": "close",
         "rawType": "float64",
         "type": "float"
        }
       ],
       "ref": "2660734c-55d4-432c-8e1a-5bb71a302a85",
       "rows": [
        [
         "0",
         "2024-01-02 00:00:00",
         "5GTK11",
         "81.39"
        ],
        [
         "1",
         "2024-01-03 00:00:00",
         "5GTK11",
         "80.1"
        ],
        [
         "2",
         "2024-01-04 00:00:00",
         "5GTK11",
         "79.47"
        ],
        [
         "3",
         "2024-01-05 00:00:00",
         "5GTK11",
         "79.34"
        ],
        [
         "4",
         "2024-01-08 00:00:00",
         "5GTK11",
         "81.47"
        ],
        [
         "5",
         "2024-01-09 00:00:00",
         "5GTK11",
         "81.95"
        ],
        [
         "6",
         "2024-01-10 00:00:00",
         "5GTK11",
         "81.93"
        ],
        [
         "7",
         "2024-01-11 00:00:00",
         "5GTK11",
         "81.79"
        ],
        [
         "8",
         "2024-01-12 00:00:00",
         "5GTK11",
         "81.55"
        ],
        [
         "9",
         "2024-01-15 00:00:00",
         "5GTK11",
         "81.6"
        ],
        [
         "10",
         "2024-01-16 00:00:00",
         "5GTK11",
         "83.31"
        ],
        [
         "11",
         "2024-01-17 00:00:00",
         "5GTK11",
         "82.65"
        ],
        [
         "12",
         "2024-01-18 00:00:00",
         "5GTK11",
         "84.24"
        ],
        [
         "13",
         "2024-01-19 00:00:00",
         "5GTK11",
         "86.11"
        ],
        [
         "14",
         "2024-01-22 00:00:00",
         "5GTK11",
         "87.58"
        ],
        [
         "15",
         "2024-01-23 00:00:00",
         "5GTK11",
         "87.36"
        ],
        [
         "16",
         "2024-01-24 00:00:00",
         "5GTK11",
         "87.31"
        ],
        [
         "17",
         "2024-01-25 00:00:00",
         "5GTK11",
         "87.42"
        ],
        [
         "18",
         "2024-01-26 00:00:00",
         "5GTK11",
         "86.04"
        ],
        [
         "19",
         "2024-01-29 00:00:00",
         "5GTK11",
         "87.36"
        ],
        [
         "20",
         "2024-01-30 00:00:00",
         "5GTK11",
         "86.3"
        ],
        [
         "21",
         "2024-01-31 00:00:00",
         "5GTK11",
         "84.84"
        ],
        [
         "22",
         "2024-02-01 00:00:00",
         "5GTK11",
         "84.79"
        ],
        [
         "23",
         "2024-02-02 00:00:00",
         "5GTK11",
         "86.28"
        ],
        [
         "24",
         "2024-02-05 00:00:00",
         "5GTK11",
         "86.53"
        ],
        [
         "25",
         "2024-02-06 00:00:00",
         "5GTK11",
         "85.94"
        ],
        [
         "26",
         "2024-02-07 00:00:00",
         "5GTK11",
         "86.95"
        ],
        [
         "27",
         "2024-02-08 00:00:00",
         "5GTK11",
         "87.92"
        ],
        [
         "28",
         "2024-02-09 00:00:00",
         "5GTK11",
         "88.07"
        ],
        [
         "29",
         "2024-02-14 00:00:00",
         "5GTK11",
         "85.94"
        ],
        [
         "30",
         "2024-02-15 00:00:00",
         "5GTK11",
         "88.0"
        ],
        [
         "31",
         "2024-02-16 00:00:00",
         "5GTK11",
         "87.01"
        ],
        [
         "32",
         "2024-02-19 00:00:00",
         "5GTK11",
         "87.08"
        ],
        [
         "33",
         "2024-02-20 00:00:00",
         "5GTK11",
         "85.06"
        ],
        [
         "34",
         "2024-02-21 00:00:00",
         "5GTK11",
         "84.93"
        ],
        [
         "35",
         "2024-02-22 00:00:00",
         "5GTK11",
         "88.28"
        ],
        [
         "36",
         "2024-02-23 00:00:00",
         "5GTK11",
         "88.6"
        ],
        [
         "37",
         "2024-02-26 00:00:00",
         "5GTK11",
         "88.48"
        ],
        [
         "38",
         "2024-02-27 00:00:00",
         "5GTK11",
         "87.68"
        ],
        [
         "39",
         "2024-02-28 00:00:00",
         "5GTK11",
         "88.03"
        ],
        [
         "40",
         "2024-02-29 00:00:00",
         "5GTK11",
         "89.58"
        ],
        [
         "41",
         "2024-03-01 00:00:00",
         "5GTK11",
         "92.2"
        ],
        [
         "42",
         "2024-03-04 00:00:00",
         "5GTK11",
         "92.95"
        ],
        [
         "43",
         "2024-03-05 00:00:00",
         "5GTK11",
         "91.63"
        ],
        [
         "44",
         "2024-03-06 00:00:00",
         "5GTK11",
         "92.71"
        ],
        [
         "45",
         "2024-03-07 00:00:00",
         "5GTK11",
         "93.6"
        ],
        [
         "46",
         "2024-03-08 00:00:00",
         "5GTK11",
         "92.6"
        ],
        [
         "47",
         "2024-03-11 00:00:00",
         "5GTK11",
         "92.13"
        ],
        [
         "48",
         "2024-03-12 00:00:00",
         "5GTK11",
         "93.33"
        ],
        [
         "49",
         "2024-03-13 00:00:00",
         "5GTK11",
         "91.72"
        ]
       ],
       "shape": {
        "columns": 3,
        "rows": 2607848
       }
      },
      "text/html": [
       "<div>\n",
       "<style scoped>\n",
       "    .dataframe tbody tr th:only-of-type {\n",
       "        vertical-align: middle;\n",
       "    }\n",
       "\n",
       "    .dataframe tbody tr th {\n",
       "        vertical-align: top;\n",
       "    }\n",
       "\n",
       "    .dataframe thead th {\n",
       "        text-align: right;\n",
       "    }\n",
       "</style>\n",
       "<table border=\"1\" class=\"dataframe\">\n",
       "  <thead>\n",
       "    <tr style=\"text-align: right;\">\n",
       "      <th></th>\n",
       "      <th>date</th>\n",
       "      <th>ticker</th>\n",
       "      <th>close</th>\n",
       "    </tr>\n",
       "  </thead>\n",
       "  <tbody>\n",
       "    <tr>\n",
       "      <th>0</th>\n",
       "      <td>2024-01-02</td>\n",
       "      <td>5GTK11</td>\n",
       "      <td>81.39</td>\n",
       "    </tr>\n",
       "    <tr>\n",
       "      <th>1</th>\n",
       "      <td>2024-01-03</td>\n",
       "      <td>5GTK11</td>\n",
       "      <td>80.10</td>\n",
       "    </tr>\n",
       "    <tr>\n",
       "      <th>2</th>\n",
       "      <td>2024-01-04</td>\n",
       "      <td>5GTK11</td>\n",
       "      <td>79.47</td>\n",
       "    </tr>\n",
       "    <tr>\n",
       "      <th>3</th>\n",
       "      <td>2024-01-05</td>\n",
       "      <td>5GTK11</td>\n",
       "      <td>79.34</td>\n",
       "    </tr>\n",
       "    <tr>\n",
       "      <th>4</th>\n",
       "      <td>2024-01-08</td>\n",
       "      <td>5GTK11</td>\n",
       "      <td>81.47</td>\n",
       "    </tr>\n",
       "    <tr>\n",
       "      <th>...</th>\n",
       "      <td>...</td>\n",
       "      <td>...</td>\n",
       "      <td>...</td>\n",
       "    </tr>\n",
       "    <tr>\n",
       "      <th>2607843</th>\n",
       "      <td>2024-12-16</td>\n",
       "      <td>ZIFI11</td>\n",
       "      <td>610.00</td>\n",
       "    </tr>\n",
       "    <tr>\n",
       "      <th>2607844</th>\n",
       "      <td>2024-12-20</td>\n",
       "      <td>ZIFI11</td>\n",
       "      <td>601.14</td>\n",
       "    </tr>\n",
       "    <tr>\n",
       "      <th>2607845</th>\n",
       "      <td>2024-12-23</td>\n",
       "      <td>ZIFI11</td>\n",
       "      <td>603.02</td>\n",
       "    </tr>\n",
       "    <tr>\n",
       "      <th>2607846</th>\n",
       "      <td>2024-12-26</td>\n",
       "      <td>ZIFI11</td>\n",
       "      <td>620.00</td>\n",
       "    </tr>\n",
       "    <tr>\n",
       "      <th>2607847</th>\n",
       "      <td>2024-12-27</td>\n",
       "      <td>ZIFI11</td>\n",
       "      <td>634.99</td>\n",
       "    </tr>\n",
       "  </tbody>\n",
       "</table>\n",
       "<p>2607848 rows × 3 columns</p>\n",
       "</div>"
      ],
      "text/plain": [
       "              date  ticker   close\n",
       "0       2024-01-02  5GTK11   81.39\n",
       "1       2024-01-03  5GTK11   80.10\n",
       "2       2024-01-04  5GTK11   79.47\n",
       "3       2024-01-05  5GTK11   79.34\n",
       "4       2024-01-08  5GTK11   81.47\n",
       "...            ...     ...     ...\n",
       "2607843 2024-12-16  ZIFI11  610.00\n",
       "2607844 2024-12-20  ZIFI11  601.14\n",
       "2607845 2024-12-23  ZIFI11  603.02\n",
       "2607846 2024-12-26  ZIFI11  620.00\n",
       "2607847 2024-12-27  ZIFI11  634.99\n",
       "\n",
       "[2607848 rows x 3 columns]"
      ]
     },
     "execution_count": 3,
     "metadata": {},
     "output_type": "execute_result"
    }
   ],
   "source": [
    "# Lista de arquivos Parquet na camada bronze\n",
    "file_list = [\n",
    "    \"COTAHIST_A2019\",\n",
    "    \"COTAHIST_A2020\",\n",
    "    \"COTAHIST_A2021\",\n",
    "    \"COTAHIST_A2022\",\n",
    "    \"COTAHIST_A2023\",\n",
    "    \"COTAHIST_A2024\",\n",
    "]\n",
    "\n",
    "# Garantir que a pasta silver exista\n",
    "os.makedirs(\"silver/tickers_bolsa\", exist_ok=True)\n",
    "\n",
    "# Loop pelos arquivos\n",
    "for file in file_list:\n",
    "    # Caminho do arquivo parquet da camada bronze\n",
    "    bronze_path = f\"bronze/tickers_bolsa/{file}.parquet\"\n",
    "    \n",
    "    # Carregar os dados da camada bronze\n",
    "    df = pd.read_parquet(bronze_path)\n",
    "    df\n",
    "    \n",
    "    # Conversão de tipos\n",
    "    df['date'] = pd.to_datetime(df['date'], format='%Y%m%d', errors='coerce')\n",
    "    df['close'] = df['close'].apply(_to_float)\n",
    "    df['ticker'] = df['ticker'].astype(str).str.upper().str.strip()\n",
    "    \n",
    "    # Remover linhas com dados nulos\n",
    "    df = df.dropna(subset=['date', 'ticker', 'close'])\n",
    "    \n",
    "    # Remover duplicatas\n",
    "    df = df.drop_duplicates(subset=['date', 'ticker'])\n",
    "    \n",
    "    # Ordenar os dados\n",
    "    df = df.sort_values(by=['ticker', 'date']).reset_index(drop=True)\n",
    "    \n",
    "    # Caminho da camada silver\n",
    "    silver_path = f\"silver/tickers_bolsa/{file}.parquet\"\n",
    "    \n",
    "    # Salvar arquivo limpo na camada silver\n",
    "    df.to_parquet(silver_path, index=False)\n",
    "\n",
    "    print(f\"{file} processado e salvo em silver.\")\n",
    "df"
   ]
  }
 ],
 "metadata": {
  "kernelspec": {
   "display_name": "python3_7",
   "language": "python",
   "name": "python3"
  },
  "language_info": {
   "codemirror_mode": {
    "name": "ipython",
    "version": 3
   },
   "file_extension": ".py",
   "mimetype": "text/x-python",
   "name": "python",
   "nbconvert_exporter": "python",
   "pygments_lexer": "ipython3",
   "version": "3.7.10"
  }
 },
 "nbformat": 4,
 "nbformat_minor": 5
}
