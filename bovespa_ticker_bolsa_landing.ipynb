{
 "cells": [
  {
   "cell_type": "code",
   "execution_count": 1,
   "id": "2c0b50cb",
   "metadata": {},
   "outputs": [],
   "source": [
    "import os\n",
    "import numpy as np\n",
    "from urllib.request import urlretrieve\n",
    "import zipfile\n",
    "from datetime import date, datetime\n",
    "import pandas as pd"
   ]
  },
  {
   "cell_type": "code",
   "execution_count": 3,
   "id": "81cd284e",
   "metadata": {},
   "outputs": [],
   "source": [
    "def download_year(year):\n",
    "    file_path = f'landing/tickers_bolsa/zip/{year}.zip'\n",
    "    urlretrieve(f'http://bvmf.bmfbovespa.com.br/InstDados/SerHist/COTAHIST_A{year}.ZIP', file_path)\n",
    "    return file_path\n",
    "\n",
    "\n",
    "def unzip(file_path):\n",
    "    with zipfile.ZipFile(file_path, 'r') as zip_ref:\n",
    "        zip_ref.extractall('landing/tickers_bolsa/txt/')\n",
    "        \n",
    "def _to_float(s):\n",
    "    return float(s[:-2] + '.' + s[-2:])\n",
    "\n",
    "years = list(range(2019, 2025))"
   ]
  },
  {
   "cell_type": "code",
   "execution_count": 4,
   "id": "21b76450",
   "metadata": {},
   "outputs": [],
   "source": [
    "#baixar e retirar os ficheiros do ZIP\n",
    "for year in years:\n",
    "    file = download_year(year)\n",
    "    #unzip(file)"
   ]
  }
 ],
 "metadata": {
  "kernelspec": {
   "display_name": "python3_7",
   "language": "python",
   "name": "python3"
  },
  "language_info": {
   "codemirror_mode": {
    "name": "ipython",
    "version": 3
   },
   "file_extension": ".py",
   "mimetype": "text/x-python",
   "name": "python",
   "nbconvert_exporter": "python",
   "pygments_lexer": "ipython3",
   "version": "3.7.10"
  }
 },
 "nbformat": 4,
 "nbformat_minor": 5
}
