{
 "cells": [
  {
   "cell_type": "code",
   "execution_count": 1,
   "id": "2c0b50cb",
   "metadata": {},
   "outputs": [],
   "source": [
    "import os\n",
    "import numpy as np\n",
    "from urllib.request import urlretrieve\n",
    "import zipfile\n",
    "from datetime import date, datetime\n",
    "import pandas as pd"
   ]
  },
  {
   "cell_type": "code",
   "execution_count": 2,
   "id": "e0fdca9a",
   "metadata": {},
   "outputs": [],
   "source": [
    "df_ibov = pd.read_csv(\n",
    "    \"landing/ibov/ibov.csv\",\n",
    "    encoding=\"latin1\",\n",
    "    sep=\";\",\n",
    "    decimal=\",\",\n",
    "    dtype=\"str\",\n",
    ")\n",
    "\n",
    "df_ibov = df_ibov.reset_index().rename(columns={'index': 'ticker'})\n",
    "df_ibov = df_ibov[[\"ticker\"]]\n",
    "df_ibov.to_parquet(\"bronze/ibov/ibov.parquet\", index = False)"
   ]
  },
  {
   "cell_type": "code",
   "execution_count": 3,
   "id": "f413d087",
   "metadata": {},
   "outputs": [],
   "source": [
    "df_ibov = pd.read_parquet(\"bronze/tickers_bolsa/COTAHIST_A2024.parquet\")\n",
    "\n",
    "#for i in range(1, 2):\n",
    "#    df_ibov = pd.concat([df_ibov, df_ibov], ignore_index=True)\n"
   ]
  },
  {
   "cell_type": "code",
   "execution_count": 9,
   "id": "ca4ec5d0",
   "metadata": {},
   "outputs": [],
   "source": [
    "df_ibov_excel = pd.read_excel(\"tickers_excel.xlsx\")"
   ]
  },
  {
   "cell_type": "code",
   "execution_count": 10,
   "id": "3a47b921",
   "metadata": {},
   "outputs": [],
   "source": [
    "df_ibov_parquet = pd.read_parquet(\"tickers_parquet.parquet\")"
   ]
  },
  {
   "cell_type": "code",
   "execution_count": 11,
   "id": "806810a1",
   "metadata": {},
   "outputs": [],
   "source": [
    "df_ibov_csv = pd.read_csv(\"tickers_csv.csv\")"
   ]
  },
  {
   "cell_type": "code",
   "execution_count": 12,
   "id": "1b84d602",
   "metadata": {},
   "outputs": [],
   "source": [
    "df_ibov_json = pd.read_json(\"tickers_json.json\")"
   ]
  },
  {
   "cell_type": "code",
   "execution_count": 3,
   "id": "c7fabef1",
   "metadata": {},
   "outputs": [],
   "source": [
    "df_ibov.head(1048570).to_parquet(\"tickers_parquet.parquet\", index = False)"
   ]
  },
  {
   "cell_type": "code",
   "execution_count": 5,
   "id": "1bd47bed",
   "metadata": {},
   "outputs": [],
   "source": [
    "df_ibov.head(1048570).to_csv(\"tickers_csv.csv\", index = False)"
   ]
  },
  {
   "cell_type": "code",
   "execution_count": 7,
   "id": "ff707ca6",
   "metadata": {},
   "outputs": [],
   "source": [
    "df_ibov.head(1048570).to_json(\"tickers_json.json\")"
   ]
  },
  {
   "cell_type": "code",
   "execution_count": 4,
   "id": "4a60c53a",
   "metadata": {},
   "outputs": [],
   "source": [
    "df_ibov.head(1048570).to_excel(\"tickers_excel.xlsx\", index = False)"
   ]
  }
 ],
 "metadata": {
  "kernelspec": {
   "display_name": "python3_7",
   "language": "python",
   "name": "python3"
  },
  "language_info": {
   "codemirror_mode": {
    "name": "ipython",
    "version": 3
   },
   "file_extension": ".py",
   "mimetype": "text/x-python",
   "name": "python",
   "nbconvert_exporter": "python",
   "pygments_lexer": "ipython3",
   "version": "3.7.10"
  }
 },
 "nbformat": 4,
 "nbformat_minor": 5
}
