{
 "cells": [
  {
   "cell_type": "code",
   "execution_count": 1,
   "id": "2c0b50cb",
   "metadata": {},
   "outputs": [],
   "source": [
    "import os\n",
    "import numpy as np\n",
    "from urllib.request import urlretrieve\n",
    "import zipfile\n",
    "from datetime import date, datetime\n"
   ]
  },
  {
   "cell_type": "code",
   "execution_count": 2,
   "id": "2ed2c55e",
   "metadata": {},
   "outputs": [],
   "source": [
    "# Cria o arquivo ibov.csv vazio, se ele não existir\n",
    "\n",
    "if not os.path.exists(\"ibov.csv\"):\n",
    "    with open(\"ibov.csv\", \"w\") as f:\n",
    "        f.write(\"\")  # opcionalmente, adicionar um cabeçalho"
   ]
  },
  {
   "cell_type": "code",
   "execution_count": 3,
   "id": "3d41b650",
   "metadata": {},
   "outputs": [],
   "source": [
    "import pandas as pd"
   ]
  },
  {
   "cell_type": "code",
   "execution_count": 10,
   "id": "e0fdca9a",
   "metadata": {},
   "outputs": [
    {
     "data": {
      "application/vnd.microsoft.datawrangler.viewer.v0+json": {
       "columns": [
        {
         "name": "index",
         "rawType": "object",
         "type": "string"
        },
        {
         "name": "Codigo",
         "rawType": "object",
         "type": "string"
        },
        {
         "name": "Accaoo",
         "rawType": "object",
         "type": "string"
        },
        {
         "name": "Tipo",
         "rawType": "object",
         "type": "string"
        },
        {
         "name": "Qtde. Teorica",
         "rawType": "float64",
         "type": "float"
        },
        {
         "name": "Part. (%)",
         "rawType": "float64",
         "type": "float"
        }
       ],
       "ref": "3fe2e5df-ee00-4994-83ae-0b04060b79b5",
       "rows": [
        [
         "ALOS3",
         "ALLOS",
         "ON  ED  NM",
         "476.976.044",
         "0.468",
         null
        ],
        [
         "ABEV3",
         "AMBEV S/A",
         "ON",
         "4.394.835.131",
         "2.876",
         null
        ],
        [
         "ASAI3",
         "ASSAI",
         "ON  ED  NM",
         "1.345.832.968",
         "0.577",
         null
        ],
        [
         "AURE3",
         "AUREN",
         "ON  ED  NM",
         "323.738.747",
         "0.133",
         null
        ],
        [
         "AMOB3",
         "AUTOMOB",
         "ON      NM",
         "533.959.816",
         "0.006",
         null
        ],
        [
         "AZUL4",
         "AZUL",
         "PN      N2",
         "326.872.005",
         "0.03",
         null
        ],
        [
         "AZZA3",
         "AZZAS 2154",
         "ON      NM",
         "136.643.320",
         "0.192",
         null
        ],
        [
         "B3SA3",
         "B3",
         "ON      NM",
         "5.392.540.963",
         "3.354",
         null
        ],
        [
         "BBSE3",
         "BBSEGURIDADE",
         "ON      NM",
         "637.332.335",
         "1.245",
         null
        ],
        [
         "BBDC3",
         "BRADESCO",
         "ON      N1",
         "1.484.426.957",
         "0.825",
         null
        ],
        [
         "BBDC4",
         "BRADESCO",
         "PN      N1",
         "5.129.958.973",
         "3.188",
         null
        ],
        [
         "BRAP4",
         "BRADESPAR",
         "PN  ED  N1",
         "250.969.312",
         "0.194",
         null
        ],
        [
         "BBAS3",
         "BRASIL",
         "ON      NM",
         "2.842.613.858",
         "3.698",
         null
        ],
        [
         "BRKM5",
         "BRASKEM",
         "PNA     N1",
         "265.388.400",
         "0.139",
         null
        ],
        [
         "BRAV3",
         "BRAVA",
         "ON      NM",
         "460.791.208",
         "0.396",
         null
        ],
        [
         "BRFS3",
         "BRF SA",
         "ON      NM",
         "814.523.002",
         "0.866",
         null
        ],
        [
         "BPAC11",
         "BTGP BANCO",
         "UNT     N2",
         "1.287.247.964",
         "2.188",
         null
        ],
        [
         "CXSE3",
         "CAIXA SEGURI",
         "ON      NM",
         "599.880.893",
         "0.463",
         null
        ],
        [
         "CRFB3",
         "CARREFOUR BR",
         "ON      NM",
         "532.664.283",
         "0.214",
         null
        ],
        [
         "CCRO3",
         "CCR SA",
         "ON  ED  NM",
         "991.920.937",
         "0.608",
         null
        ],
        [
         "CMIG4",
         "CEMIG",
         "PN      N1",
         "1.858.636.840",
         "0.944",
         null
        ],
        [
         "COGN3",
         "COGNA ON",
         "ON      NM",
         "1.872.454.628",
         "0.217",
         null
        ],
        [
         "CPLE6",
         "COPEL",
         "PNB ED  N2",
         "1.679.233.590",
         "0.88",
         null
        ],
        [
         "CSAN3",
         "COSAN",
         "ON      NM",
         "1.150.987.430",
         "0.412",
         null
        ],
        [
         "CPFE3",
         "CPFL ENERGIA",
         "ON      NM",
         "187.732.538",
         "0.34",
         null
        ],
        [
         "CMIN3",
         "CSNMINERACAO",
         "ON      N2",
         "1.646.519.336",
         "0.473",
         null
        ],
        [
         "CVCB3",
         "CVC BRASIL",
         "ON      NM",
         "525.591.097",
         "0.056",
         null
        ],
        [
         "CYRE3",
         "CYRELA REALT",
         "ON  ED  NM",
         "273.755.006",
         "0.311",
         null
        ],
        [
         "ELET3",
         "ELETROBRAS",
         "ON      N1",
         "1.977.170.723",
         "3.988",
         null
        ],
        [
         "ELET6",
         "ELETROBRAS",
         "PNB     N1",
         "268.875.696",
         "0.589",
         null
        ],
        [
         "EMBR3",
         "EMBRAER",
         "ON      NM",
         "734.631.801",
         "2.168",
         null
        ],
        [
         "ENGI11",
         "ENERGISA",
         "UNT     N2",
         "326.175.300",
         "0.689",
         null
        ],
        [
         "ENEV3",
         "ENEVA",
         "ON      NM",
         "1.929.556.616",
         "1.189",
         null
        ],
        [
         "EGIE3",
         "ENGIE BRASIL",
         "ON      NM",
         "255.236.938",
         "0.477",
         null
        ],
        [
         "EQTL3",
         "EQUATORIAL",
         "ON      NM",
         "1.253.541.010",
         "2.093",
         null
        ],
        [
         "FLRY3",
         "FLEURY",
         "ON      NM",
         "455.988.366",
         "0.275",
         null
        ],
        [
         "GGBR4",
         "GERDAU",
         "PN      N1",
         "1.242.683.687",
         "0.885",
         null
        ],
        [
         "GOAU4",
         "GERDAU MET",
         "PN      N1",
         "649.238.303",
         "0.259",
         null
        ],
        [
         "NTCO3",
         "GRUPO NATURA",
         "ON      NM",
         "850.935.197",
         "0.394",
         null
        ],
        [
         "HAPV3",
         "HAPVIDA",
         "ON      NM",
         "4.779.395.040",
         "0.535",
         null
        ],
        [
         "HYPE3",
         "HYPERA",
         "ON      NM",
         "370.735.677",
         "0.414",
         null
        ],
        [
         "IGTI11",
         "IGUATEMI S.A",
         "UNT ED  N1",
         "211.783.588",
         "0.199",
         null
        ],
        [
         "IRBR3",
         "IRBBRASIL RE",
         "ON      NM",
         "81.838.243",
         "0.183",
         null
        ],
        [
         "ISAE4",
         "ISA ENERGIA",
         "PN      N1",
         "395.801.044",
         "0.428",
         null
        ],
        [
         "ITSA4",
         "ITAUSA",
         "PN      N1",
         "5.857.796.242",
         "2.876",
         null
        ],
        [
         "ITUB4",
         "ITAUUNIBANCO",
         "PN      N1",
         "5.272.192.664",
         "8.477",
         null
        ],
        [
         "JBSS3",
         "JBS",
         "ON      NM",
         "1.145.962.972",
         "2.548",
         null
        ],
        [
         "KLBN11",
         "KLABIN S/A",
         "UNT     N2",
         "765.785.673",
         "0.665",
         null
        ],
        [
         "RENT3",
         "LOCALIZA",
         "ON      NM",
         "965.986.531",
         "1.92",
         null
        ],
        [
         "LREN3",
         "LOJAS RENNER",
         "ON      NM",
         "1.051.120.777",
         "0.676",
         null
        ]
       ],
       "shape": {
        "columns": 5,
        "rows": 87
       }
      },
      "text/html": [
       "<div>\n",
       "<style scoped>\n",
       "    .dataframe tbody tr th:only-of-type {\n",
       "        vertical-align: middle;\n",
       "    }\n",
       "\n",
       "    .dataframe tbody tr th {\n",
       "        vertical-align: top;\n",
       "    }\n",
       "\n",
       "    .dataframe thead th {\n",
       "        text-align: right;\n",
       "    }\n",
       "</style>\n",
       "<table border=\"1\" class=\"dataframe\">\n",
       "  <thead>\n",
       "    <tr style=\"text-align: right;\">\n",
       "      <th></th>\n",
       "      <th>Codigo</th>\n",
       "      <th>Accaoo</th>\n",
       "      <th>Tipo</th>\n",
       "      <th>Qtde. Teorica</th>\n",
       "      <th>Part. (%)</th>\n",
       "    </tr>\n",
       "  </thead>\n",
       "  <tbody>\n",
       "    <tr>\n",
       "      <th>ALOS3</th>\n",
       "      <td>ALLOS</td>\n",
       "      <td>ON  ED  NM</td>\n",
       "      <td>476.976.044</td>\n",
       "      <td>0.468</td>\n",
       "      <td>NaN</td>\n",
       "    </tr>\n",
       "    <tr>\n",
       "      <th>ABEV3</th>\n",
       "      <td>AMBEV S/A</td>\n",
       "      <td>ON</td>\n",
       "      <td>4.394.835.131</td>\n",
       "      <td>2.876</td>\n",
       "      <td>NaN</td>\n",
       "    </tr>\n",
       "    <tr>\n",
       "      <th>ASAI3</th>\n",
       "      <td>ASSAI</td>\n",
       "      <td>ON  ED  NM</td>\n",
       "      <td>1.345.832.968</td>\n",
       "      <td>0.577</td>\n",
       "      <td>NaN</td>\n",
       "    </tr>\n",
       "    <tr>\n",
       "      <th>AURE3</th>\n",
       "      <td>AUREN</td>\n",
       "      <td>ON  ED  NM</td>\n",
       "      <td>323.738.747</td>\n",
       "      <td>0.133</td>\n",
       "      <td>NaN</td>\n",
       "    </tr>\n",
       "    <tr>\n",
       "      <th>AMOB3</th>\n",
       "      <td>AUTOMOB</td>\n",
       "      <td>ON      NM</td>\n",
       "      <td>533.959.816</td>\n",
       "      <td>0.006</td>\n",
       "      <td>NaN</td>\n",
       "    </tr>\n",
       "    <tr>\n",
       "      <th>...</th>\n",
       "      <td>...</td>\n",
       "      <td>...</td>\n",
       "      <td>...</td>\n",
       "      <td>...</td>\n",
       "      <td>...</td>\n",
       "    </tr>\n",
       "    <tr>\n",
       "      <th>VAMO3</th>\n",
       "      <td>VAMOS</td>\n",
       "      <td>ON      NM</td>\n",
       "      <td>485.166.826</td>\n",
       "      <td>0.121</td>\n",
       "      <td>NaN</td>\n",
       "    </tr>\n",
       "    <tr>\n",
       "      <th>VBBR3</th>\n",
       "      <td>VIBRA</td>\n",
       "      <td>ON  ED  NM</td>\n",
       "      <td>1.023.538.460</td>\n",
       "      <td>0.908</td>\n",
       "      <td>NaN</td>\n",
       "    </tr>\n",
       "    <tr>\n",
       "      <th>VIVA3</th>\n",
       "      <td>VIVARA S.A.</td>\n",
       "      <td>ON  ED  NM</td>\n",
       "      <td>125.446.075</td>\n",
       "      <td>0.123</td>\n",
       "      <td>NaN</td>\n",
       "    </tr>\n",
       "    <tr>\n",
       "      <th>WEGE3</th>\n",
       "      <td>WEG</td>\n",
       "      <td>ON      NM</td>\n",
       "      <td>1.243.177.587</td>\n",
       "      <td>2.881</td>\n",
       "      <td>NaN</td>\n",
       "    </tr>\n",
       "    <tr>\n",
       "      <th>YDUQ3</th>\n",
       "      <td>YDUQS PART</td>\n",
       "      <td>ON      NM</td>\n",
       "      <td>277.677.050</td>\n",
       "      <td>0.182</td>\n",
       "      <td>NaN</td>\n",
       "    </tr>\n",
       "  </tbody>\n",
       "</table>\n",
       "<p>87 rows × 5 columns</p>\n",
       "</div>"
      ],
      "text/plain": [
       "            Codigo      Accaoo           Tipo  Qtde. Teorica  Part. (%)\n",
       "ALOS3        ALLOS  ON  ED  NM    476.976.044          0.468        NaN\n",
       "ABEV3    AMBEV S/A          ON  4.394.835.131          2.876        NaN\n",
       "ASAI3        ASSAI  ON  ED  NM  1.345.832.968          0.577        NaN\n",
       "AURE3        AUREN  ON  ED  NM    323.738.747          0.133        NaN\n",
       "AMOB3      AUTOMOB  ON      NM    533.959.816          0.006        NaN\n",
       "...            ...         ...            ...            ...        ...\n",
       "VAMO3        VAMOS  ON      NM    485.166.826          0.121        NaN\n",
       "VBBR3        VIBRA  ON  ED  NM  1.023.538.460          0.908        NaN\n",
       "VIVA3  VIVARA S.A.  ON  ED  NM    125.446.075          0.123        NaN\n",
       "WEGE3          WEG  ON      NM  1.243.177.587          2.881        NaN\n",
       "YDUQ3   YDUQS PART  ON      NM    277.677.050          0.182        NaN\n",
       "\n",
       "[87 rows x 5 columns]"
      ]
     },
     "execution_count": 10,
     "metadata": {},
     "output_type": "execute_result"
    }
   ],
   "source": [
    "df_ibov = pd.read_csv(\n",
    "    #\"ibov copy.csv\",\n",
    "    \"landing/ibov/ibov.csv\",\n",
    "    encoding=\"latin1\",\n",
    "    sep=\";\",\n",
    "    decimal=\",\"\n",
    "    )\n",
    "\n",
    "df_ibov"
   ]
  },
  {
   "cell_type": "code",
   "execution_count": 11,
   "id": "35cc22b6",
   "metadata": {},
   "outputs": [
    {
     "data": {
      "application/vnd.microsoft.datawrangler.viewer.v0+json": {
       "columns": [
        {
         "name": "index",
         "rawType": "int64",
         "type": "integer"
        },
        {
         "name": "Ticker",
         "rawType": "object",
         "type": "string"
        },
        {
         "name": "Codigo",
         "rawType": "object",
         "type": "string"
        },
        {
         "name": "Accaoo",
         "rawType": "object",
         "type": "string"
        },
        {
         "name": "Tipo",
         "rawType": "object",
         "type": "string"
        },
        {
         "name": "Qtde. Teorica",
         "rawType": "float64",
         "type": "float"
        },
        {
         "name": "Part. (%)",
         "rawType": "float64",
         "type": "float"
        }
       ],
       "ref": "c9d697fd-28f4-49da-af14-35df8b445e16",
       "rows": [
        [
         "0",
         "ALOS3",
         "ALLOS",
         "ON  ED  NM",
         "476.976.044",
         "0.468",
         null
        ],
        [
         "1",
         "ABEV3",
         "AMBEV S/A",
         "ON",
         "4.394.835.131",
         "2.876",
         null
        ],
        [
         "2",
         "ASAI3",
         "ASSAI",
         "ON  ED  NM",
         "1.345.832.968",
         "0.577",
         null
        ],
        [
         "3",
         "AURE3",
         "AUREN",
         "ON  ED  NM",
         "323.738.747",
         "0.133",
         null
        ],
        [
         "4",
         "AMOB3",
         "AUTOMOB",
         "ON      NM",
         "533.959.816",
         "0.006",
         null
        ],
        [
         "5",
         "AZUL4",
         "AZUL",
         "PN      N2",
         "326.872.005",
         "0.03",
         null
        ],
        [
         "6",
         "AZZA3",
         "AZZAS 2154",
         "ON      NM",
         "136.643.320",
         "0.192",
         null
        ],
        [
         "7",
         "B3SA3",
         "B3",
         "ON      NM",
         "5.392.540.963",
         "3.354",
         null
        ],
        [
         "8",
         "BBSE3",
         "BBSEGURIDADE",
         "ON      NM",
         "637.332.335",
         "1.245",
         null
        ],
        [
         "9",
         "BBDC3",
         "BRADESCO",
         "ON      N1",
         "1.484.426.957",
         "0.825",
         null
        ],
        [
         "10",
         "BBDC4",
         "BRADESCO",
         "PN      N1",
         "5.129.958.973",
         "3.188",
         null
        ],
        [
         "11",
         "BRAP4",
         "BRADESPAR",
         "PN  ED  N1",
         "250.969.312",
         "0.194",
         null
        ],
        [
         "12",
         "BBAS3",
         "BRASIL",
         "ON      NM",
         "2.842.613.858",
         "3.698",
         null
        ],
        [
         "13",
         "BRKM5",
         "BRASKEM",
         "PNA     N1",
         "265.388.400",
         "0.139",
         null
        ],
        [
         "14",
         "BRAV3",
         "BRAVA",
         "ON      NM",
         "460.791.208",
         "0.396",
         null
        ],
        [
         "15",
         "BRFS3",
         "BRF SA",
         "ON      NM",
         "814.523.002",
         "0.866",
         null
        ],
        [
         "16",
         "BPAC11",
         "BTGP BANCO",
         "UNT     N2",
         "1.287.247.964",
         "2.188",
         null
        ],
        [
         "17",
         "CXSE3",
         "CAIXA SEGURI",
         "ON      NM",
         "599.880.893",
         "0.463",
         null
        ],
        [
         "18",
         "CRFB3",
         "CARREFOUR BR",
         "ON      NM",
         "532.664.283",
         "0.214",
         null
        ],
        [
         "19",
         "CCRO3",
         "CCR SA",
         "ON  ED  NM",
         "991.920.937",
         "0.608",
         null
        ],
        [
         "20",
         "CMIG4",
         "CEMIG",
         "PN      N1",
         "1.858.636.840",
         "0.944",
         null
        ],
        [
         "21",
         "COGN3",
         "COGNA ON",
         "ON      NM",
         "1.872.454.628",
         "0.217",
         null
        ],
        [
         "22",
         "CPLE6",
         "COPEL",
         "PNB ED  N2",
         "1.679.233.590",
         "0.88",
         null
        ],
        [
         "23",
         "CSAN3",
         "COSAN",
         "ON      NM",
         "1.150.987.430",
         "0.412",
         null
        ],
        [
         "24",
         "CPFE3",
         "CPFL ENERGIA",
         "ON      NM",
         "187.732.538",
         "0.34",
         null
        ],
        [
         "25",
         "CMIN3",
         "CSNMINERACAO",
         "ON      N2",
         "1.646.519.336",
         "0.473",
         null
        ],
        [
         "26",
         "CVCB3",
         "CVC BRASIL",
         "ON      NM",
         "525.591.097",
         "0.056",
         null
        ],
        [
         "27",
         "CYRE3",
         "CYRELA REALT",
         "ON  ED  NM",
         "273.755.006",
         "0.311",
         null
        ],
        [
         "28",
         "ELET3",
         "ELETROBRAS",
         "ON      N1",
         "1.977.170.723",
         "3.988",
         null
        ],
        [
         "29",
         "ELET6",
         "ELETROBRAS",
         "PNB     N1",
         "268.875.696",
         "0.589",
         null
        ],
        [
         "30",
         "EMBR3",
         "EMBRAER",
         "ON      NM",
         "734.631.801",
         "2.168",
         null
        ],
        [
         "31",
         "ENGI11",
         "ENERGISA",
         "UNT     N2",
         "326.175.300",
         "0.689",
         null
        ],
        [
         "32",
         "ENEV3",
         "ENEVA",
         "ON      NM",
         "1.929.556.616",
         "1.189",
         null
        ],
        [
         "33",
         "EGIE3",
         "ENGIE BRASIL",
         "ON      NM",
         "255.236.938",
         "0.477",
         null
        ],
        [
         "34",
         "EQTL3",
         "EQUATORIAL",
         "ON      NM",
         "1.253.541.010",
         "2.093",
         null
        ],
        [
         "35",
         "FLRY3",
         "FLEURY",
         "ON      NM",
         "455.988.366",
         "0.275",
         null
        ],
        [
         "36",
         "GGBR4",
         "GERDAU",
         "PN      N1",
         "1.242.683.687",
         "0.885",
         null
        ],
        [
         "37",
         "GOAU4",
         "GERDAU MET",
         "PN      N1",
         "649.238.303",
         "0.259",
         null
        ],
        [
         "38",
         "NTCO3",
         "GRUPO NATURA",
         "ON      NM",
         "850.935.197",
         "0.394",
         null
        ],
        [
         "39",
         "HAPV3",
         "HAPVIDA",
         "ON      NM",
         "4.779.395.040",
         "0.535",
         null
        ],
        [
         "40",
         "HYPE3",
         "HYPERA",
         "ON      NM",
         "370.735.677",
         "0.414",
         null
        ],
        [
         "41",
         "IGTI11",
         "IGUATEMI S.A",
         "UNT ED  N1",
         "211.783.588",
         "0.199",
         null
        ],
        [
         "42",
         "IRBR3",
         "IRBBRASIL RE",
         "ON      NM",
         "81.838.243",
         "0.183",
         null
        ],
        [
         "43",
         "ISAE4",
         "ISA ENERGIA",
         "PN      N1",
         "395.801.044",
         "0.428",
         null
        ],
        [
         "44",
         "ITSA4",
         "ITAUSA",
         "PN      N1",
         "5.857.796.242",
         "2.876",
         null
        ],
        [
         "45",
         "ITUB4",
         "ITAUUNIBANCO",
         "PN      N1",
         "5.272.192.664",
         "8.477",
         null
        ],
        [
         "46",
         "JBSS3",
         "JBS",
         "ON      NM",
         "1.145.962.972",
         "2.548",
         null
        ],
        [
         "47",
         "KLBN11",
         "KLABIN S/A",
         "UNT     N2",
         "765.785.673",
         "0.665",
         null
        ],
        [
         "48",
         "RENT3",
         "LOCALIZA",
         "ON      NM",
         "965.986.531",
         "1.92",
         null
        ],
        [
         "49",
         "LREN3",
         "LOJAS RENNER",
         "ON      NM",
         "1.051.120.777",
         "0.676",
         null
        ]
       ],
       "shape": {
        "columns": 6,
        "rows": 87
       }
      },
      "text/html": [
       "<div>\n",
       "<style scoped>\n",
       "    .dataframe tbody tr th:only-of-type {\n",
       "        vertical-align: middle;\n",
       "    }\n",
       "\n",
       "    .dataframe tbody tr th {\n",
       "        vertical-align: top;\n",
       "    }\n",
       "\n",
       "    .dataframe thead th {\n",
       "        text-align: right;\n",
       "    }\n",
       "</style>\n",
       "<table border=\"1\" class=\"dataframe\">\n",
       "  <thead>\n",
       "    <tr style=\"text-align: right;\">\n",
       "      <th></th>\n",
       "      <th>Ticker</th>\n",
       "      <th>Codigo</th>\n",
       "      <th>Accaoo</th>\n",
       "      <th>Tipo</th>\n",
       "      <th>Qtde. Teorica</th>\n",
       "      <th>Part. (%)</th>\n",
       "    </tr>\n",
       "  </thead>\n",
       "  <tbody>\n",
       "    <tr>\n",
       "      <th>0</th>\n",
       "      <td>ALOS3</td>\n",
       "      <td>ALLOS</td>\n",
       "      <td>ON  ED  NM</td>\n",
       "      <td>476.976.044</td>\n",
       "      <td>0.468</td>\n",
       "      <td>NaN</td>\n",
       "    </tr>\n",
       "    <tr>\n",
       "      <th>1</th>\n",
       "      <td>ABEV3</td>\n",
       "      <td>AMBEV S/A</td>\n",
       "      <td>ON</td>\n",
       "      <td>4.394.835.131</td>\n",
       "      <td>2.876</td>\n",
       "      <td>NaN</td>\n",
       "    </tr>\n",
       "    <tr>\n",
       "      <th>2</th>\n",
       "      <td>ASAI3</td>\n",
       "      <td>ASSAI</td>\n",
       "      <td>ON  ED  NM</td>\n",
       "      <td>1.345.832.968</td>\n",
       "      <td>0.577</td>\n",
       "      <td>NaN</td>\n",
       "    </tr>\n",
       "    <tr>\n",
       "      <th>3</th>\n",
       "      <td>AURE3</td>\n",
       "      <td>AUREN</td>\n",
       "      <td>ON  ED  NM</td>\n",
       "      <td>323.738.747</td>\n",
       "      <td>0.133</td>\n",
       "      <td>NaN</td>\n",
       "    </tr>\n",
       "    <tr>\n",
       "      <th>4</th>\n",
       "      <td>AMOB3</td>\n",
       "      <td>AUTOMOB</td>\n",
       "      <td>ON      NM</td>\n",
       "      <td>533.959.816</td>\n",
       "      <td>0.006</td>\n",
       "      <td>NaN</td>\n",
       "    </tr>\n",
       "    <tr>\n",
       "      <th>...</th>\n",
       "      <td>...</td>\n",
       "      <td>...</td>\n",
       "      <td>...</td>\n",
       "      <td>...</td>\n",
       "      <td>...</td>\n",
       "      <td>...</td>\n",
       "    </tr>\n",
       "    <tr>\n",
       "      <th>82</th>\n",
       "      <td>VAMO3</td>\n",
       "      <td>VAMOS</td>\n",
       "      <td>ON      NM</td>\n",
       "      <td>485.166.826</td>\n",
       "      <td>0.121</td>\n",
       "      <td>NaN</td>\n",
       "    </tr>\n",
       "    <tr>\n",
       "      <th>83</th>\n",
       "      <td>VBBR3</td>\n",
       "      <td>VIBRA</td>\n",
       "      <td>ON  ED  NM</td>\n",
       "      <td>1.023.538.460</td>\n",
       "      <td>0.908</td>\n",
       "      <td>NaN</td>\n",
       "    </tr>\n",
       "    <tr>\n",
       "      <th>84</th>\n",
       "      <td>VIVA3</td>\n",
       "      <td>VIVARA S.A.</td>\n",
       "      <td>ON  ED  NM</td>\n",
       "      <td>125.446.075</td>\n",
       "      <td>0.123</td>\n",
       "      <td>NaN</td>\n",
       "    </tr>\n",
       "    <tr>\n",
       "      <th>85</th>\n",
       "      <td>WEGE3</td>\n",
       "      <td>WEG</td>\n",
       "      <td>ON      NM</td>\n",
       "      <td>1.243.177.587</td>\n",
       "      <td>2.881</td>\n",
       "      <td>NaN</td>\n",
       "    </tr>\n",
       "    <tr>\n",
       "      <th>86</th>\n",
       "      <td>YDUQ3</td>\n",
       "      <td>YDUQS PART</td>\n",
       "      <td>ON      NM</td>\n",
       "      <td>277.677.050</td>\n",
       "      <td>0.182</td>\n",
       "      <td>NaN</td>\n",
       "    </tr>\n",
       "  </tbody>\n",
       "</table>\n",
       "<p>87 rows × 6 columns</p>\n",
       "</div>"
      ],
      "text/plain": [
       "   Ticker       Codigo      Accaoo           Tipo  Qtde. Teorica  Part. (%)\n",
       "0   ALOS3        ALLOS  ON  ED  NM    476.976.044          0.468        NaN\n",
       "1   ABEV3    AMBEV S/A          ON  4.394.835.131          2.876        NaN\n",
       "2   ASAI3        ASSAI  ON  ED  NM  1.345.832.968          0.577        NaN\n",
       "3   AURE3        AUREN  ON  ED  NM    323.738.747          0.133        NaN\n",
       "4   AMOB3      AUTOMOB  ON      NM    533.959.816          0.006        NaN\n",
       "..    ...          ...         ...            ...            ...        ...\n",
       "82  VAMO3        VAMOS  ON      NM    485.166.826          0.121        NaN\n",
       "83  VBBR3        VIBRA  ON  ED  NM  1.023.538.460          0.908        NaN\n",
       "84  VIVA3  VIVARA S.A.  ON  ED  NM    125.446.075          0.123        NaN\n",
       "85  WEGE3          WEG  ON      NM  1.243.177.587          2.881        NaN\n",
       "86  YDUQ3   YDUQS PART  ON      NM    277.677.050          0.182        NaN\n",
       "\n",
       "[87 rows x 6 columns]"
      ]
     },
     "execution_count": 11,
     "metadata": {},
     "output_type": "execute_result"
    }
   ],
   "source": [
    "df_reset = df_ibov.reset_index().rename(columns={'index': 'Ticker'})\n",
    "df_reset"
   ]
  }
 ],
 "metadata": {
  "kernelspec": {
   "display_name": "python3_7",
   "language": "python",
   "name": "python3"
  },
  "language_info": {
   "codemirror_mode": {
    "name": "ipython",
    "version": 3
   },
   "file_extension": ".py",
   "mimetype": "text/x-python",
   "name": "python",
   "nbconvert_exporter": "python",
   "pygments_lexer": "ipython3",
   "version": "3.7.10"
  }
 },
 "nbformat": 4,
 "nbformat_minor": 5
}
