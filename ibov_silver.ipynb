{
 "cells": [
  {
   "cell_type": "code",
   "execution_count": 1,
   "id": "22f9342c",
   "metadata": {},
   "outputs": [],
   "source": [
    "import os\n",
    "import pandas as pd"
   ]
  },
  {
   "cell_type": "code",
   "execution_count": 2,
   "id": "d4917d63",
   "metadata": {},
   "outputs": [
    {
     "name": "stdout",
     "output_type": "stream",
     "text": [
      "Arquivo salvo em silver/ibov/ibov.parquet\n"
     ]
    }
   ],
   "source": [
    "# Caminho do arquivo parquet da camada bronze\n",
    "bronze_path = \"bronze/ibov/ibov.parquet\"\n",
    "\n",
    "# Garantir que o diretório silver exista\n",
    "os.makedirs(\"silver/ibov\", exist_ok=True)\n",
    "\n",
    "# Carregar dados da camada bronze\n",
    "df_ibov = pd.read_parquet(bronze_path)\n",
    "\n",
    "#df_ibov\n",
    "\n",
    "# Transformações\n",
    "df_ibov['ticker'] = df_ibov['ticker'].astype(str).str.strip().str.upper()\n",
    "\n",
    "# Remover valores nulos e duplicados\n",
    "df_ibov = df_ibov.dropna(subset=['ticker'])\n",
    "df_ibov = df_ibov.drop_duplicates(subset=['ticker'])\n",
    "df_ibov\n",
    "\n",
    "# Salvar no diretório silver\n",
    "silver_path = \"silver/ibov/ibov.parquet\"\n",
    "df_ibov.to_parquet(silver_path, index=False)\n",
    "\n",
    "print(f\"Arquivo salvo em {silver_path}\")\n"
   ]
  },
  {
   "cell_type": "code",
   "execution_count": 3,
   "id": "ec7f24bc",
   "metadata": {},
   "outputs": [
    {
     "data": {
      "application/vnd.microsoft.datawrangler.viewer.v0+json": {
       "columns": [
        {
         "name": "index",
         "rawType": "int64",
         "type": "integer"
        },
        {
         "name": "ticker",
         "rawType": "object",
         "type": "string"
        }
       ],
       "ref": "5216cccf-192f-43b9-bf39-45ed901a9bd6",
       "rows": [
        [
         "0",
         "ALOS3"
        ],
        [
         "1",
         "ABEV3"
        ],
        [
         "2",
         "ASAI3"
        ],
        [
         "3",
         "AURE3"
        ],
        [
         "4",
         "AMOB3"
        ],
        [
         "5",
         "AZUL4"
        ],
        [
         "6",
         "AZZA3"
        ],
        [
         "7",
         "B3SA3"
        ],
        [
         "8",
         "BBSE3"
        ],
        [
         "9",
         "BBDC3"
        ],
        [
         "10",
         "BBDC4"
        ],
        [
         "11",
         "BRAP4"
        ],
        [
         "12",
         "BBAS3"
        ],
        [
         "13",
         "BRKM5"
        ],
        [
         "14",
         "BRAV3"
        ],
        [
         "15",
         "BRFS3"
        ],
        [
         "16",
         "BPAC11"
        ],
        [
         "17",
         "CXSE3"
        ],
        [
         "18",
         "CRFB3"
        ],
        [
         "19",
         "CCRO3"
        ],
        [
         "20",
         "CMIG4"
        ],
        [
         "21",
         "COGN3"
        ],
        [
         "22",
         "CPLE6"
        ],
        [
         "23",
         "CSAN3"
        ],
        [
         "24",
         "CPFE3"
        ],
        [
         "25",
         "CMIN3"
        ],
        [
         "26",
         "CVCB3"
        ],
        [
         "27",
         "CYRE3"
        ],
        [
         "28",
         "ELET3"
        ],
        [
         "29",
         "ELET6"
        ],
        [
         "30",
         "EMBR3"
        ],
        [
         "31",
         "ENGI11"
        ],
        [
         "32",
         "ENEV3"
        ],
        [
         "33",
         "EGIE3"
        ],
        [
         "34",
         "EQTL3"
        ],
        [
         "35",
         "FLRY3"
        ],
        [
         "36",
         "GGBR4"
        ],
        [
         "37",
         "GOAU4"
        ],
        [
         "38",
         "NTCO3"
        ],
        [
         "39",
         "HAPV3"
        ],
        [
         "40",
         "HYPE3"
        ],
        [
         "41",
         "IGTI11"
        ],
        [
         "42",
         "IRBR3"
        ],
        [
         "43",
         "ISAE4"
        ],
        [
         "44",
         "ITSA4"
        ],
        [
         "45",
         "ITUB4"
        ],
        [
         "46",
         "JBSS3"
        ],
        [
         "47",
         "KLBN11"
        ],
        [
         "48",
         "RENT3"
        ],
        [
         "49",
         "LREN3"
        ]
       ],
       "shape": {
        "columns": 1,
        "rows": 87
       }
      },
      "text/html": [
       "<div>\n",
       "<style scoped>\n",
       "    .dataframe tbody tr th:only-of-type {\n",
       "        vertical-align: middle;\n",
       "    }\n",
       "\n",
       "    .dataframe tbody tr th {\n",
       "        vertical-align: top;\n",
       "    }\n",
       "\n",
       "    .dataframe thead th {\n",
       "        text-align: right;\n",
       "    }\n",
       "</style>\n",
       "<table border=\"1\" class=\"dataframe\">\n",
       "  <thead>\n",
       "    <tr style=\"text-align: right;\">\n",
       "      <th></th>\n",
       "      <th>ticker</th>\n",
       "    </tr>\n",
       "  </thead>\n",
       "  <tbody>\n",
       "    <tr>\n",
       "      <th>0</th>\n",
       "      <td>ALOS3</td>\n",
       "    </tr>\n",
       "    <tr>\n",
       "      <th>1</th>\n",
       "      <td>ABEV3</td>\n",
       "    </tr>\n",
       "    <tr>\n",
       "      <th>2</th>\n",
       "      <td>ASAI3</td>\n",
       "    </tr>\n",
       "    <tr>\n",
       "      <th>3</th>\n",
       "      <td>AURE3</td>\n",
       "    </tr>\n",
       "    <tr>\n",
       "      <th>4</th>\n",
       "      <td>AMOB3</td>\n",
       "    </tr>\n",
       "    <tr>\n",
       "      <th>...</th>\n",
       "      <td>...</td>\n",
       "    </tr>\n",
       "    <tr>\n",
       "      <th>82</th>\n",
       "      <td>VAMO3</td>\n",
       "    </tr>\n",
       "    <tr>\n",
       "      <th>83</th>\n",
       "      <td>VBBR3</td>\n",
       "    </tr>\n",
       "    <tr>\n",
       "      <th>84</th>\n",
       "      <td>VIVA3</td>\n",
       "    </tr>\n",
       "    <tr>\n",
       "      <th>85</th>\n",
       "      <td>WEGE3</td>\n",
       "    </tr>\n",
       "    <tr>\n",
       "      <th>86</th>\n",
       "      <td>YDUQ3</td>\n",
       "    </tr>\n",
       "  </tbody>\n",
       "</table>\n",
       "<p>87 rows × 1 columns</p>\n",
       "</div>"
      ],
      "text/plain": [
       "   ticker\n",
       "0   ALOS3\n",
       "1   ABEV3\n",
       "2   ASAI3\n",
       "3   AURE3\n",
       "4   AMOB3\n",
       "..    ...\n",
       "82  VAMO3\n",
       "83  VBBR3\n",
       "84  VIVA3\n",
       "85  WEGE3\n",
       "86  YDUQ3\n",
       "\n",
       "[87 rows x 1 columns]"
      ]
     },
     "execution_count": 3,
     "metadata": {},
     "output_type": "execute_result"
    }
   ],
   "source": [
    "df_ibov"
   ]
  },
  {
   "cell_type": "code",
   "execution_count": null,
   "id": "cef0c595",
   "metadata": {},
   "outputs": [],
   "source": [
    "tab_ibov\n",
    "\n",
    "tab_bovespa\n",
    "\n"
   ]
  }
 ],
 "metadata": {
  "kernelspec": {
   "display_name": "python3_7",
   "language": "python",
   "name": "python3"
  },
  "language_info": {
   "codemirror_mode": {
    "name": "ipython",
    "version": 3
   },
   "file_extension": ".py",
   "mimetype": "text/x-python",
   "name": "python",
   "nbconvert_exporter": "python",
   "pygments_lexer": "ipython3",
   "version": "3.7.10"
  }
 },
 "nbformat": 4,
 "nbformat_minor": 5
}
